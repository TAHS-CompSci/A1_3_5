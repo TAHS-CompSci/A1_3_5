{
 "cells": [
  {
   "cell_type": "code",
   "execution_count": null,
   "metadata": {},
   "outputs": [],
   "source": [
    "\"\"\"\n",
    "A1.3.5 coding.py\n",
    "Programmer:Adam Elkins\n",
    "this is where the code for the activtiy \n",
    "\"\"\"\n",
    "from __future__ import print_function\n",
    "if input('One character: ') == '!':\n",
    "    print('Wow', end='!')\n",
    "slogan = 'My school is the best'\n",
    "type(slogan)"
   ]
  },
  {
   "cell_type": "code",
   "execution_count": null,
   "metadata": {},
   "outputs": [],
   "source": [
    "slogan"
   ]
  },
  {
   "cell_type": "code",
   "execution_count": null,
   "metadata": {},
   "outputs": [],
   "source": [
    "type('tr' + \"y this\")\n",
    "type('tr' + 5)"
   ]
  },
  {
   "cell_type": "code",
   "execution_count": null,
   "metadata": {},
   "outputs": [],
   "source": [
    "slogan[0:5] # Note that slogan[5] is ‘h’\n",
    "slogan[16:21]\n",
    "slogan[:13] + 'awesome!'"
   ]
  },
  {
   "cell_type": "code",
   "execution_count": null,
   "metadata": {},
   "outputs": [],
   "source": [
    "activity = 'theater'\n",
    "len(activity)\n",
    "activity[0 : len(activity)-1]"
   ]
  },
  {
   "cell_type": "code",
   "execution_count": null,
   "metadata": {},
   "outputs": [],
   "source": [
    "'test goo' in 'Greatest good for the greatest number!'"
   ]
  },
  {
   "cell_type": "code",
   "execution_count": 10,
   "metadata": {},
   "outputs": [
    {
     "name": "stdout",
     "output_type": "stream",
     "text": [
      "Type an essay: !,\"?\n"
     ]
    }
   ],
   "source": [
    "essay=input('Type an essay: ')\n",
    "def how_eligible(essay):\n",
    "    good_ch=0\n",
    "    if '!' in essay:\n",
    "        good_ch += 1\n",
    "    if '\"' in essay:\n",
    "        good_ch += 1\n",
    "    if ',' in essay:\n",
    "        good_ch += 1\n",
    "    if '?' in essay:\n",
    "        good_ch += 1\n",
    "    print (good_ch)"
   ]
  },
  {
   "cell_type": "code",
   "execution_count": 11,
   "metadata": {},
   "outputs": [
    {
     "name": "stdout",
     "output_type": "stream",
     "text": [
      "4\n"
     ]
    }
   ],
   "source": [
    " how_eligible(essay)"
   ]
  }
 ],
 "metadata": {
  "kernelspec": {
   "display_name": "Python 3",
   "language": "python",
   "name": "python3"
  }
 },
 "nbformat": 4,
 "nbformat_minor": 2
}
